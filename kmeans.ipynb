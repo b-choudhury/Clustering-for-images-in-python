{
 "cells": [
  {
   "cell_type": "code",
   "execution_count": 34,
   "metadata": {},
   "outputs": [],
   "source": [
    "#Short code to figure out the best number of clusters for a distribution of images in a directory.\n",
    "#Also has code to convert images in to vector + how to do it for multiple images in a directory\n",
    "#Assuming all images are processed and are of same dimensions\n",
    "\n",
    "import sklearn\n",
    "from sklearn.cluster import KMeans\n",
    "import numpy as np"
   ]
  },
  {
   "cell_type": "code",
   "execution_count": 54,
   "metadata": {},
   "outputs": [],
   "source": [
    "import numpy as np\n",
    "from PIL import Image\n",
    "from sklearn.cluster import KMeans\n",
    "\n",
    "img = Image.open('bird_small.png').convert('RGBA')\n",
    "arr = np.array(img)\n",
    "\n",
    "# record the original shape\n",
    "shape = arr.shape\n",
    "\n",
    "# make a 1-dimensional view of arr\n",
    "flat_arr = arr.ravel()\n",
    "\n",
    "# convert it to a matrix\n",
    "vector = np.matrix(flat_arr)\n",
    "\n",
    "#Just as an example\n",
    "X = np.concatenate([vector,1*vector,1.5*vector,0.5*vector,0.7*vector,0.8*vector,0.9*vector,0.65*vector,0.76*vector,0.54*vector,0.43*vector,0.49*vector])"
   ]
  },
  {
   "cell_type": "code",
   "execution_count": 55,
   "metadata": {},
   "outputs": [],
   "source": [
    "#Use this if you have a directory of images\n",
    "\n",
    "#from skimage.io import imread_collection\n",
    "\n",
    "#your path \n",
    "#col_dir = 'Training/*.jpg'\n",
    "#col = imread_collection(col_dir)\n",
    "#x_train = np.array(col)\n",
    "#X = [arr.ravel() for arr in x_train]\n",
    "\n"
   ]
  },
  {
   "cell_type": "code",
   "execution_count": 56,
   "metadata": {},
   "outputs": [],
   "source": [
    "def kmeanscost(K):\n",
    "    kmeans = KMeans(n_clusters=K, random_state=0).fit(X)\n",
    "    c=0\n",
    "    m=X.shape[0]\n",
    "    for i in range(0,m):\n",
    "        c = c+(X[i,:]-kmeans.cluster_centers_[kmeans.labels_[i]])*((X[i,:]-kmeans.cluster_centers_[kmeans.labels_[i]]).T)\n",
    "    cost = (1/float(m))*c \n",
    "    return float(cost)\n",
    "\n"
   ]
  },
  {
   "cell_type": "code",
   "execution_count": 57,
   "metadata": {},
   "outputs": [],
   "source": [
    "import matplotlib.pyplot as plt"
   ]
  },
  {
   "cell_type": "code",
   "execution_count": 70,
   "metadata": {},
   "outputs": [],
   "source": [
    "max_clusters=8\n",
    "costs = []\n",
    "for i in range(1,max_clusters+1):\n",
    "    costs.append(kmeanscost(i))"
   ]
  },
  {
   "cell_type": "code",
   "execution_count": 71,
   "metadata": {},
   "outputs": [
    {
     "data": {
      "text/plain": [
       "[165142035.11812416,\n",
       " 58399946.05363754,\n",
       " 16978771.312634505,\n",
       " 4302884.748463881,\n",
       " 2474193.286138884,\n",
       " 1368408.577249996,\n",
       " 572243.5868499975,\n",
       " 348322.1832999984]"
      ]
     },
     "execution_count": 71,
     "metadata": {},
     "output_type": "execute_result"
    }
   ],
   "source": [
    "costs"
   ]
  },
  {
   "cell_type": "code",
   "execution_count": 72,
   "metadata": {},
   "outputs": [],
   "source": [
    "cluster_nums = range(1,max_clusters+1)"
   ]
  },
  {
   "cell_type": "code",
   "execution_count": 73,
   "metadata": {
    "scrolled": false
   },
   "outputs": [
    {
     "data": {
      "text/plain": [
       "[<matplotlib.lines.Line2D at 0x1a1ece8a50>]"
      ]
     },
     "execution_count": 73,
     "metadata": {},
     "output_type": "execute_result"
    },
    {
     "data": {
      "image/png": "[encoded data removed]",
      "text/plain": [
       "<Figure size 432x288 with 1 Axes>"
      ]
     },
     "metadata": {
      "needs_background": "light"
     },
     "output_type": "display_data"
    }
   ],
   "source": [
    "plt.plot(cluster_nums,costs)"
   ]
  },
  {
   "cell_type": "code",
   "execution_count": null,
   "metadata": {
    "scrolled": true
   },
   "outputs": [],
   "source": []
  },
  {
   "cell_type": "code",
   "execution_count": null,
   "metadata": {},
   "outputs": [],
   "source": []
  },
  {
   "cell_type": "code",
   "execution_count": null,
   "metadata": {},
   "outputs": [],
   "source": []
  }
 ],
 "metadata": {
  "kernelspec": {
   "display_name": "Python 2",
   "language": "python",
   "name": "python2"
  },
  "language_info": {
   "codemirror_mode": {
    "name": "ipython",
    "version": 2
   },
   "file_extension": ".py",
   "mimetype": "text/x-python",
   "name": "python",
   "nbconvert_exporter": "python",
   "pygments_lexer": "ipython2",
   "version": "2.7.16"
  }
 },
 "nbformat": 4,
 "nbformat_minor": 2
}
