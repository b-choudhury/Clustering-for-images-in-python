{
 "cells": [
  {
   "cell_type": "code",
   "execution_count": 41,
   "metadata": {},
   "outputs": [],
   "source": [
    "#Short code to figure out the best number of clusters for a distribution of images in a directory.\n",
    "#Also has code to convert images in to vector + how to do it for multiple images in a directory\n",
    "#Assuming all images are processed and are of same dimensions\n",
    "\n",
    "import sklearn\n",
    "from sklearn.cluster import KMeans\n",
    "import numpy as np"
   ]
  },
  {
   "cell_type": "code",
   "execution_count": 42,
   "metadata": {},
   "outputs": [],
   "source": [
    "import numpy as np\n",
    "from PIL import Image\n",
    "from sklearn.cluster import KMeans\n",
    "\n",
    "img = Image.open('bird_small.png').convert('RGBA')\n",
    "arr = np.array(img)\n",
    "\n",
    "# record the original shape\n",
    "shape = arr.shape\n",
    "\n",
    "# make a 1-dimensional view of arr\n",
    "flat_arr = arr.ravel()\n",
    "\n",
    "# convert it to a matrix\n",
    "vector = np.matrix(flat_arr)\n",
    "\n",
    "#Just as an example\n",
    "X = np.concatenate([vector,1*vector,1.5*vector,100.5*vector,200*vector])"
   ]
  },
  {
   "cell_type": "code",
   "execution_count": 43,
   "metadata": {},
   "outputs": [],
   "source": [
    "#Use this if you have a directory of images\n",
    "\n",
    "#from skimage.io import imread_collection\n",
    "\n",
    "#your path \n",
    "#col_dir = 'Training/*.jpg'\n",
    "#col = imread_collection(col_dir)\n",
    "#X = [arr.ravel() for arr in x_train]\n",
    "\n"
   ]
  },
  {
   "cell_type": "code",
   "execution_count": 44,
   "metadata": {},
   "outputs": [],
   "source": [
    "def kmeanscost(K):\n",
    "    kmeans = KMeans(n_clusters=K, random_state=0).fit(X)\n",
    "    c=0\n",
    "    m=X.shape[0]\n",
    "    for i in range(0,m):\n",
    "        c = c+(X[i,:]-kmeans.cluster_centers_[kmeans.labels_[i]])*((X[i,:]-kmeans.cluster_centers_[kmeans.labels_[i]]).T)\n",
    "    cost = (1/float(m))*c \n",
    "    return float(cost)\n",
    "\n"
   ]
  },
  {
   "cell_type": "code",
   "execution_count": 45,
   "metadata": {},
   "outputs": [],
   "source": [
    "import matplotlib.pyplot as plt"
   ]
  },
  {
   "cell_type": "code",
   "execution_count": 46,
   "metadata": {},
   "outputs": [],
   "source": [
    "max_clusters=4\n",
    "costs = []\n",
    "for i in range(1,max_clusters+1):\n",
    "    costs.append(kmeanscost(i))"
   ]
  },
  {
   "cell_type": "code",
   "execution_count": 47,
   "metadata": {},
   "outputs": [
    {
     "data": {
      "text/plain": [
       "[12587886005467.764, 1970624458634.4336, 66347082.53333334, 0.0]"
      ]
     },
     "execution_count": 47,
     "metadata": {},
     "output_type": "execute_result"
    }
   ],
   "source": [
    "costs"
   ]
  },
  {
   "cell_type": "code",
   "execution_count": 48,
   "metadata": {},
   "outputs": [],
   "source": [
    "cluster_nums = range(1,max_clusters+1)"
   ]
  },
  {
   "cell_type": "code",
   "execution_count": 49,
   "metadata": {
    "scrolled": false
   },
   "outputs": [
    {
     "data": {
      "text/plain": [
       "[<matplotlib.lines.Line2D at 0x11df35a10>]"
      ]
     },
     "execution_count": 49,
     "metadata": {},
     "output_type": "execute_result"
    },
    {
     "data": {
      "image/png": "[encoded data removed]",
      "text/plain": [
       "<Figure size 432x288 with 1 Axes>"
      ]
     },
     "metadata": {
      "needs_background": "light"
     },
     "output_type": "display_data"
    }
   ],
   "source": [
    "plt.plot(cluster_nums,costs)"
   ]
  },
  {
   "cell_type": "code",
   "execution_count": null,
   "metadata": {
    "scrolled": true
   },
   "outputs": [],
   "source": []
  },
  {
   "cell_type": "code",
   "execution_count": null,
   "metadata": {},
   "outputs": [],
   "source": []
  },
  {
   "cell_type": "code",
   "execution_count": null,
   "metadata": {},
   "outputs": [],
   "source": []
  }
 ],
 "metadata": {
  "kernelspec": {
   "display_name": "Python 2",
   "language": "python",
   "name": "python2"
  },
  "language_info": {
   "codemirror_mode": {
    "name": "ipython",
    "version": 2
   },
   "file_extension": ".py",
   "mimetype": "text/x-python",
   "name": "python",
   "nbconvert_exporter": "python",
   "pygments_lexer": "ipython2",
   "version": "2.7.16"
  }
 },
 "nbformat": 4,
 "nbformat_minor": 2
}
